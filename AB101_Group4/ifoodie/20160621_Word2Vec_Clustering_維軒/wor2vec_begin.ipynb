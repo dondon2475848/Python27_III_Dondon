{
 "cells": [
  {
   "cell_type": "code",
   "execution_count": 2,
   "metadata": {
    "collapsed": false
   },
   "outputs": [],
   "source": [
    "import gensim\n",
    "import logging\n",
    "\n",
    "'''\n",
    "要自己訓練的話用這個，setence是一個list，裡面每個element則是由切好的詞構成的list\n",
    "\n",
    "例如：\n",
    "sentence = [['今天','實在','很熱'],['感覺','路面','可以','煎蛋']]\n",
    "\n",
    "模型參數看官方文件說明：https://radimrehurek.com/gensim/models/word2vec.html\n",
    "logging.basicConfig(format='%(asctime)s : %(levelname)s : %(message)s', level=logging.INFO)\n",
    "model = gensim.models.Word2Vec(sentence, size=200, workers=2, min_count=1, sg=1)\n",
    "'''\n",
    "model = gensim.models.Word2Vec.load('./mymodelSG')"
   ]
  },
  {
   "cell_type": "code",
   "execution_count": 6,
   "metadata": {
    "collapsed": false
   },
   "outputs": [
    {
     "name": "stdout",
     "output_type": "stream",
     "text": [
      "美式漢堡 0.752196133137\n",
      "牛肉漢堡 0.741214334965\n",
      "漢堡包 0.715929090977\n",
      "牛肉堡 0.71466678381\n",
      "熱狗堡 0.71376234293\n",
      "三明治 0.712198138237\n",
      "潛艇堡 0.706289827824\n",
      "帕尼尼 0.686724960804\n",
      "漢堡肉 0.684866905212\n",
      "漢堡堡 0.667946100235\n"
     ]
    }
   ],
   "source": [
    "# 相似度\n",
    "for ele in model.most_similar(u'漢堡', topn=10):\n",
    "    print ele[0], ele[1]"
   ]
  },
  {
   "cell_type": "code",
   "execution_count": 7,
   "metadata": {
    "collapsed": false
   },
   "outputs": [],
   "source": [
    "# KMean前處理\n",
    "# 詞清單\n",
    "wordlist = model.index2word\n",
    "# 詞向量\n",
    "wordvector = model.syn0"
   ]
  },
  {
   "cell_type": "code",
   "execution_count": 4,
   "metadata": {
    "collapsed": false
   },
   "outputs": [
    {
     "name": "stderr",
     "output_type": "stream",
     "text": [
      "WARNING:gensim.similarities.docsim:scanning corpus to determine the number of features (consider setting `num_features` explicitly)\n"
     ]
    }
   ],
   "source": [
    "'''\n",
    "[Spectral Clustering 前處理]\n",
    "\n",
    "import numpy as np\n",
    "\n",
    "全部詞算相似度\n",
    "\n",
    "smatrix = gensim.similarities.MatrixSimilarity(gensim.matutils.Dense2Corpus(model.syn0.T))\n",
    "nsarray = np.array(smatrix) <=== 會當機\n",
    "\n",
    "若已經把詞的範圍縮減，則可用下面這個方式\n",
    "每個詞的向量長度是n，訓練時我是將n設為200\n",
    "接著把詞向量放入list\n",
    "\n",
    "wordVectorList = [wordvector1,wordvector2,...,...]\n",
    "nsmatrix = gensim.similarities.MatrixSimilarity(gensim.matutils.Dense2Corpus(np.array(wordVectorList).T))\n",
    "\n",
    "算出來的相似度因為是浮點數，會有>1或<-1的情況，要再修正\n",
    "\n",
    "nsarray = np.array(nsmatrix)\n",
    "nsarray[nsarray>1] = 1.0\n",
    "nsarray[nsarray<-1] = -1.0\n",
    "\n",
    "另外可以把餘弦相似度轉換為弧度，再轉換為介於0~1之間的相似度\n",
    "\n",
    "angularD = np.arccos(nsarray)/math.pi\n",
    "sim = 1 - angularD\n",
    "\n",
    "'''"
   ]
  },
  {
   "cell_type": "code",
   "execution_count": null,
   "metadata": {
    "collapsed": false
   },
   "outputs": [],
   "source": []
  },
  {
   "cell_type": "code",
   "execution_count": null,
   "metadata": {
    "collapsed": false
   },
   "outputs": [],
   "source": [
    "\n"
   ]
  }
 ],
 "metadata": {
  "kernelspec": {
   "display_name": "Python 2",
   "language": "python",
   "name": "python2"
  },
  "language_info": {
   "codemirror_mode": {
    "name": "ipython",
    "version": 2
   },
   "file_extension": ".py",
   "mimetype": "text/x-python",
   "name": "python",
   "nbconvert_exporter": "python",
   "pygments_lexer": "ipython2",
   "version": "2.7.11"
  }
 },
 "nbformat": 4,
 "nbformat_minor": 0
}
